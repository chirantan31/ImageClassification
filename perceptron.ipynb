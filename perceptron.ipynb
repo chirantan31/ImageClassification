{
 "cells": [
  {
   "cell_type": "code",
   "execution_count": 1,
   "metadata": {},
   "outputs": [],
   "source": [
    "import time\n",
    "import numpy as np\n",
    "from random import randint"
   ]
  },
  {
   "cell_type": "code",
   "execution_count": 2,
   "metadata": {},
   "outputs": [],
   "source": [
    "def load_dataset(data_dir=''):\n",
    "    \"\"\"Load the train and test examples \n",
    "    \"\"\"\n",
    "    x_train = np.load(\"data/x_train.npy\")\n",
    "    y_train = np.load(\"data/y_train.npy\")\n",
    "    x_test = np.load(\"data/x_test.npy\")\n",
    "    y_test = np.load(\"data/y_test.npy\")\n",
    "\n",
    "    return x_train, y_train, x_test, y_test"
   ]
  },
  {
   "cell_type": "code",
   "execution_count": 3,
   "metadata": {},
   "outputs": [],
   "source": [
    "x_train, y_train, x_test, y_test = load_dataset()"
   ]
  },
  {
   "cell_type": "code",
   "execution_count": 4,
   "metadata": {},
   "outputs": [],
   "source": [
    "#x_train, y_train = x_train[:100], y_train[:100]"
   ]
  },
  {
   "cell_type": "code",
   "execution_count": 5,
   "metadata": {},
   "outputs": [],
   "source": [
    "classes, counts = np.unique(y_train, return_counts=True)"
   ]
  },
  {
   "cell_type": "code",
   "execution_count": 6,
   "metadata": {},
   "outputs": [],
   "source": [
    "W = np.zeros((len(classes), x_train.shape[1]))"
   ]
  },
  {
   "cell_type": "code",
   "execution_count": 7,
   "metadata": {},
   "outputs": [
    {
     "name": "stdout",
     "output_type": "stream",
     "text": [
      "Training Accuracy 0.75156\n",
      "Training Accuracy 0.78402\n",
      "Training Accuracy 0.78958\n",
      "Training Accuracy 0.79794\n",
      "Training Accuracy 0.80124\n",
      "Training Accuracy 0.79866\n",
      "Training Accuracy 0.85128\n",
      "Training Accuracy 0.8518\n",
      "Training Accuracy 0.84866\n",
      "Training Accuracy 0.84762\n",
      "6.122037172317505\n"
     ]
    }
   ],
   "source": [
    "time1 = time.time()\n",
    "LR = .01\n",
    "num_epochs = 10\n",
    "for epochs in range(num_epochs):\n",
    "    #Learning rate schedule\n",
    "    if (epochs > 5):\n",
    "        LR = 0.001\n",
    "    if (epochs > 10):\n",
    "        LR = 0.0001\n",
    "    if (epochs > 15):\n",
    "        LR = 0.00001\n",
    "    total_correct = 0\n",
    "    for n in range( len(x_train)):\n",
    "        n_random = randint(0,len(x_train)-1 )\n",
    "        y = y_train[n_random]\n",
    "        x = x_train[n_random][:]\n",
    "        x = np.reshape(x, (x.shape[0],1))\n",
    "        dot = np.dot(W, x)\n",
    "        #print(dot)\n",
    "        y_pred = np.argmax(dot)\n",
    "        if y_pred != y:\n",
    "            update = LR*x.T\n",
    "            W[y]+=update[0]\n",
    "            W[y_pred]-=update[0]\n",
    "            \n",
    "        if (y_pred == y):\n",
    "            total_correct += 1\n",
    "        \n",
    "    print(\"Training Accuracy\", total_correct/np.float(len(x_train) ) )\n",
    "time2 = time.time()\n",
    "print(time2-time1)"
   ]
  },
  {
   "cell_type": "code",
   "execution_count": 8,
   "metadata": {},
   "outputs": [
    {
     "name": "stdout",
     "output_type": "stream",
     "text": [
      "Avg Classification Rate 0.8196\n",
      "Avg Class Classification Rate [[0.655]\n",
      " [0.971]\n",
      " [0.59 ]\n",
      " [0.866]\n",
      " [0.775]\n",
      " [0.872]\n",
      " [0.685]\n",
      " [0.909]\n",
      " [0.916]\n",
      " [0.957]]\n",
      "[[655.  13.  18.  64.  12.   1. 225.   0.  11.   1.]\n",
      " [  2. 971.   0.  17.   5.   0.   5.   0.   0.   0.]\n",
      " [ 16.   7. 590.  27. 187.   0. 166.   0.   7.   0.]\n",
      " [ 17.  27.  10. 866.  37.   0.  37.   0.   6.   0.]\n",
      " [  3.   1.  46.  50. 775.   0. 124.   0.   1.   0.]\n",
      " [  1.   1.   0.   3.   1. 872.   1.  50.  11.  60.]\n",
      " [ 76.   9.  57.  48. 112.   0. 685.   0.  13.   0.]\n",
      " [  0.   0.   0.   0.   0.  30.   0. 909.   6.  55.]\n",
      " [  4.   2.   2.  17.  10.   8.  35.   3. 916.   3.]\n",
      " [  0.   0.   0.   1.   0.  10.   0.  32.   0. 957.]]\n"
     ]
    }
   ],
   "source": [
    "total_correct = 0\n",
    "num_samples, num_classified_correctly = np.zeros((len(classes), 1)), np.zeros((len(classes), 1))\n",
    "avg_accuracy = 0\n",
    "conf_matrix = np.zeros((len(classes), len(classes)))\n",
    "for n in range( len(x_test)):\n",
    "    y = y_test[n]\n",
    "    x = x_test[n][:]\n",
    "    x = np.reshape(x, (x.shape[0],1))\n",
    "    dot = np.dot(W, x)\n",
    "    #print(dot)\n",
    "    y_pred = np.argmax(dot)\n",
    "    num_samples[y]+=1\n",
    "    conf_matrix[y][y_pred]+=1\n",
    "    if (y_pred == y):\n",
    "        total_correct += 1\n",
    "        num_classified_correctly[y] += 1\n",
    "avg_classification_rate = total_correct/np.float(len(x_test))\n",
    "avg_class_classification_rate = num_classified_correctly/num_samples\n",
    "print(\"Avg Classification Rate\", total_correct/np.float(len(x_test) ) )\n",
    "print(\"Avg Class Classification Rate\", avg_class_classification_rate )\n",
    "print(conf_matrix)"
   ]
  },
  {
   "cell_type": "code",
   "execution_count": null,
   "metadata": {},
   "outputs": [],
   "source": []
  }
 ],
 "metadata": {
  "kernelspec": {
   "display_name": "Python 3",
   "language": "python",
   "name": "python3"
  },
  "language_info": {
   "codemirror_mode": {
    "name": "ipython",
    "version": 3
   },
   "file_extension": ".py",
   "mimetype": "text/x-python",
   "name": "python",
   "nbconvert_exporter": "python",
   "pygments_lexer": "ipython3",
   "version": "3.7.0"
  }
 },
 "nbformat": 4,
 "nbformat_minor": 2
}
