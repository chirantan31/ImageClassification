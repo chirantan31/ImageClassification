{
 "cells": [
  {
   "cell_type": "code",
   "execution_count": 24,
   "metadata": {},
   "outputs": [],
   "source": [
    "import time\n",
    "import numpy as np\n",
    "from random import randint"
   ]
  },
  {
   "cell_type": "code",
   "execution_count": 25,
   "metadata": {},
   "outputs": [],
   "source": [
    "def load_dataset(data_dir=''):\n",
    "    \"\"\"Load the train and test examples \n",
    "    \"\"\"\n",
    "    x_train = np.load(\"data/x_train.npy\")\n",
    "    y_train = np.load(\"data/y_train.npy\")\n",
    "    x_test = np.load(\"data/x_test.npy\")\n",
    "    y_test = np.load(\"data/y_test.npy\")\n",
    "\n",
    "    return x_train, y_train, x_test, y_test"
   ]
  },
  {
   "cell_type": "code",
   "execution_count": 91,
   "metadata": {},
   "outputs": [],
   "source": [
    "x_train, y_train, x_test, y_test = load_dataset()"
   ]
  },
  {
   "cell_type": "code",
   "execution_count": 92,
   "metadata": {},
   "outputs": [],
   "source": [
    "#x_train, y_train = x_train[:100], y_train[:100]"
   ]
  },
  {
   "cell_type": "code",
   "execution_count": 93,
   "metadata": {},
   "outputs": [],
   "source": [
    "classes, counts = np.unique(y_train, return_counts=True)"
   ]
  },
  {
   "cell_type": "code",
   "execution_count": 94,
   "metadata": {},
   "outputs": [],
   "source": [
    "W = np.zeros((len(classes), x_train.shape[1]))"
   ]
  },
  {
   "cell_type": "code",
   "execution_count": 99,
   "metadata": {},
   "outputs": [
    {
     "name": "stdout",
     "output_type": "stream",
     "text": [
      "Training Accuracy 0.79248\n",
      "Training Accuracy 0.79526\n",
      "Training Accuracy 0.80222\n",
      "Training Accuracy 0.80466\n",
      "Training Accuracy 0.80602\n",
      "Training Accuracy 0.80552\n",
      "Training Accuracy 0.85344\n",
      "Training Accuracy 0.85506\n",
      "Training Accuracy 0.85146\n",
      "Training Accuracy 0.85312\n",
      "5.407035827636719\n"
     ]
    }
   ],
   "source": [
    "time1 = time.time()\n",
    "LR = .01\n",
    "num_epochs = 10\n",
    "for epochs in range(num_epochs):\n",
    "    #Learning rate schedule\n",
    "    if (epochs > 5):\n",
    "        LR = 0.001\n",
    "    if (epochs > 10):\n",
    "        LR = 0.0001\n",
    "    if (epochs > 15):\n",
    "        LR = 0.00001\n",
    "    total_correct = 0\n",
    "    for n in range( len(x_train)):\n",
    "        n_random = randint(0,len(x_train)-1 )\n",
    "        y = y_train[n_random]\n",
    "        x = x_train[n_random][:]\n",
    "        x = np.reshape(x, (x.shape[0],1))\n",
    "        dot = np.dot(W, x)\n",
    "        #print(dot)\n",
    "        y_pred = np.argmax(dot)\n",
    "        if y_pred != y:\n",
    "            update = LR*x.T\n",
    "            W[y]+=update[0]\n",
    "            W[y_pred]-=update[0]\n",
    "            \n",
    "        #print(x.shape, y.shape, W.shape, dot.shape, y_pred)\n",
    "        #p = forward(x, y, model)\n",
    "        #prediction = np.argmax(p)\n",
    "        ##print prediction\n",
    "        if (y_pred == y):\n",
    "            total_correct += 1\n",
    "        #model_grads = backward(x,y,p, model, model_grads)\n",
    "        #model['W'] = model['W'] + LR*model_grads['W']\n",
    "        #model['b1'] = model['b1'] + LR*model_grads['b1']\n",
    "        #model['C'] = model['C'] + LR*model_grads['C']\n",
    "        #model['b2'] = model['b2'] + LR*model_grads['b2']\n",
    "        #break\n",
    "    print(\"Training Accuracy\", total_correct/np.float(len(x_train) ) )\n",
    "time2 = time.time()\n",
    "print(time2-time1)"
   ]
  },
  {
   "cell_type": "code",
   "execution_count": 98,
   "metadata": {},
   "outputs": [
    {
     "name": "stdout",
     "output_type": "stream",
     "text": [
      "Test Accuracy 0.8277\n"
     ]
    }
   ],
   "source": [
    "total_correct = 0\n",
    "for n in range( len(x_test)):\n",
    "    y = y_test[n]\n",
    "    x = x_test[n][:]\n",
    "    x = np.reshape(x, (x.shape[0],1))\n",
    "    dot = np.dot(W, x)\n",
    "    #print(dot)\n",
    "    y_pred = np.argmax(dot)\n",
    "    \n",
    "    if (y_pred == y):\n",
    "        total_correct += 1\n",
    "print(\"Test Accuracy\", total_correct/np.float(len(x_test) ) )"
   ]
  }
 ],
 "metadata": {
  "kernelspec": {
   "display_name": "Python 3",
   "language": "python",
   "name": "python3"
  },
  "language_info": {
   "codemirror_mode": {
    "name": "ipython",
    "version": 3
   },
   "file_extension": ".py",
   "mimetype": "text/x-python",
   "name": "python",
   "nbconvert_exporter": "python",
   "pygments_lexer": "ipython3",
   "version": "3.7.0"
  }
 },
 "nbformat": 4,
 "nbformat_minor": 2
}
