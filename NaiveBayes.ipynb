{
 "cells": [
  {
   "cell_type": "code",
   "execution_count": 1,
   "metadata": {},
   "outputs": [],
   "source": [
    "import time\n",
    "import numpy as np"
   ]
  },
  {
   "cell_type": "code",
   "execution_count": 2,
   "metadata": {},
   "outputs": [],
   "source": [
    "s = time.time()"
   ]
  },
  {
   "cell_type": "code",
   "execution_count": 3,
   "metadata": {},
   "outputs": [],
   "source": [
    "def load_dataset(data_dir=''):\n",
    "    \"\"\"Load the train and test examples \n",
    "    \"\"\"\n",
    "    x_train = np.load(\"data/x_train.npy\")\n",
    "    y_train = np.load(\"data/y_train.npy\")\n",
    "    x_test = np.load(\"data/x_test.npy\")\n",
    "    y_test = np.load(\"data/y_test.npy\")\n",
    "\n",
    "    return x_train, y_train, x_test, y_test"
   ]
  },
  {
   "cell_type": "code",
   "execution_count": 4,
   "metadata": {},
   "outputs": [],
   "source": [
    "x_train, y_train, x_test, y_test = load_dataset()"
   ]
  },
  {
   "cell_type": "code",
   "execution_count": 5,
   "metadata": {},
   "outputs": [],
   "source": [
    "#x_train, y_train = x_train[:100], y_train[:100]"
   ]
  },
  {
   "cell_type": "code",
   "execution_count": 6,
   "metadata": {},
   "outputs": [],
   "source": [
    "classes, counts = np.unique(y_train, return_counts=True)"
   ]
  },
  {
   "cell_type": "code",
   "execution_count": 7,
   "metadata": {},
   "outputs": [],
   "source": [
    "def one_hotter(a, colors=256):\n",
    "    #print(colors)\n",
    "    b = np.zeros((a.size, colors))\n",
    "    b[np.arange(a.size),a] = 1\n",
    "    return b.T"
   ]
  },
  {
   "cell_type": "code",
   "execution_count": 9,
   "metadata": {},
   "outputs": [],
   "source": [
    "def train(x_train, y_train):\n",
    "    start = time.time()\n",
    "    ans = np.zeros((10,256,784))\n",
    "    for i, x in enumerate(x_train):\n",
    "        y = y_train[i]\n",
    "        hot = one_hotter(x)\n",
    "        ans[y]+=hot\n",
    "    print(time.time()-start)\n",
    "    return ans"
   ]
  },
  {
   "cell_type": "code",
   "execution_count": 10,
   "metadata": {},
   "outputs": [
    {
     "name": "stdout",
     "output_type": "stream",
     "text": [
      "61.63002562522888\n"
     ]
    }
   ],
   "source": [
    "trained = train(x_train, y_train)"
   ]
  },
  {
   "cell_type": "code",
   "execution_count": 11,
   "metadata": {},
   "outputs": [
    {
     "name": "stdout",
     "output_type": "stream",
     "text": [
      "[-2.30258509 -2.30258509 -2.30258509 -2.30258509 -2.30258509 -2.30258509\n",
      " -2.30258509 -2.30258509 -2.30258509 -2.30258509]\n"
     ]
    }
   ],
   "source": [
    "p_class = np.log(counts/sum(counts))\n",
    "print(p_class)"
   ]
  },
  {
   "cell_type": "code",
   "execution_count": 12,
   "metadata": {},
   "outputs": [],
   "source": [
    "def p(pixel, val):\n",
    "    count = trained[:, val, pixel]\n",
    "    #total = counts[c]\n",
    "    return np.log((count + 1)/(counts+1))"
   ]
  },
  {
   "cell_type": "code",
   "execution_count": 13,
   "metadata": {},
   "outputs": [],
   "source": [
    "def p_total(x):\n",
    "    totals = sum([p(pixel, col) for pixel, col in enumerate(x)])\n",
    "    return totals + p_class"
   ]
  },
  {
   "cell_type": "code",
   "execution_count": 22,
   "metadata": {},
   "outputs": [
    {
     "name": "stdout",
     "output_type": "stream",
     "text": [
      "Avg Classification Rate 0.7421\n",
      "Avg Class Classification Rate [[0.757]\n",
      " [0.907]\n",
      " [0.418]\n",
      " [0.852]\n",
      " [0.645]\n",
      " [0.772]\n",
      " [0.437]\n",
      " [0.918]\n",
      " [0.838]\n",
      " [0.877]]\n",
      "[[757.   1.   9. 122.  23.   2.  73.   0.  13.   0.]\n",
      " [  3. 907.  14.  38.  21.   0.  17.   0.   0.   0.]\n",
      " [  7.   0. 418.  14. 329.   1. 219.   0.  12.   0.]\n",
      " [ 43.  12.   0. 852.  35.   1.  57.   0.   0.   0.]\n",
      " [  2.   2.  91. 105. 645.   2. 145.   1.   7.   0.]\n",
      " [  0.   0.   1.   0.   0. 772.   3. 181.   2.  41.]\n",
      " [153.   1.  87.  71. 230.   1. 437.   1.  19.   0.]\n",
      " [  0.   0.   0.   0.   0.  23.   0. 918.   0.  59.]\n",
      " [  0.   1.   4.  33.  13.  47.  26.  37. 838.   1.]\n",
      " [  0.   0.   0.   7.   0.  31.   0.  84.   1. 877.]]\n",
      "0 0\n",
      "37.43400979042053\n"
     ]
    }
   ],
   "source": [
    "total_correct = 0\n",
    "num_samples, num_classified_correctly = np.zeros((len(classes), 1)), np.zeros((len(classes), 1))\n",
    "avg_accuracy = 0\n",
    "conf_matrix = np.zeros((len(classes), len(classes)))\n",
    "most_prototypical_ind, least_prototypical_ind = np.zeros((len(classes))), np.zeros((len(classes)))\n",
    "most_prototypical_val, least_prototypical_val = np.ones((len(classes)))*-np.inf, np.ones((len(classes)))* np.inf\n",
    "start = time.time()\n",
    "correct, all_samples = 0,0\n",
    "for i, x in enumerate(x_test):\n",
    "    y = y_test[i]    \n",
    "    p_tot = p_total(x)\n",
    "    y_pred = np.argmax(p_tot)\n",
    "    num_samples[y]+=1\n",
    "    conf_matrix[y][y_pred]+=1\n",
    "    \n",
    "    \n",
    "    if most_prototypical_val[y_pred] < p_tot[y_pred]:\n",
    "        most_prototypical_ind[y_pred] = i\n",
    "        most_prototypical_val[y_pred] = p_tot[y_pred]\n",
    "    if least_prototypical_val[y_pred] > p_tot[y_pred]:\n",
    "        least_prototypical_ind[y_pred] = i\n",
    "        least_prototypical_val[y_pred] = p_tot[y_pred]\n",
    "    \n",
    "    if (y_pred == y):\n",
    "        total_correct += 1\n",
    "        num_classified_correctly[y] += 1\n",
    "avg_classification_rate = total_correct/np.float(len(x_test))\n",
    "avg_class_classification_rate = num_classified_correctly/num_samples\n",
    "print(\"Avg Classification Rate\", total_correct/np.float(len(x_test) ) )\n",
    "print(\"Avg Class Classification Rate\", avg_class_classification_rate )\n",
    "print(conf_matrix)\n",
    "    \n",
    "    \n",
    "print(correct, all_samples)\n",
    "print(time.time()-start)"
   ]
  },
  {
   "cell_type": "code",
   "execution_count": 23,
   "metadata": {},
   "outputs": [
    {
     "name": "stdout",
     "output_type": "stream",
     "text": [
      "[-2113.76106845 -1126.6993192  -2246.70901891 -1240.35084962\n",
      " -2001.65871148  -804.80056521 -2220.20439304 -1130.4468316\n",
      " -1981.4900939  -1596.2356531 ] [2110.   10. 8591. 8510.   94.  839. 5172. 4945. 2351. 8139.]\n"
     ]
    },
    {
     "data": {
      "text/plain": [
       "(array([-3900.79126482, -2384.01281709, -4191.38949576, -2868.58657393,\n",
       "        -3689.61302891, -3524.56169368, -4755.35691659, -2647.09351678,\n",
       "        -4125.36914692, -3833.22856042]),\n",
       " array([2389., 7332.,  764., 2263., 6933., 2825., 3407., 5801., 8247.,\n",
       "          50.]))"
      ]
     },
     "execution_count": 23,
     "metadata": {},
     "output_type": "execute_result"
    }
   ],
   "source": [
    "print(most_prototypical_val, most_prototypical_ind)\n",
    "least_prototypical_val, least_prototypical_ind"
   ]
  },
  {
   "cell_type": "code",
   "execution_count": 14,
   "metadata": {},
   "outputs": [
    {
     "name": "stdout",
     "output_type": "stream",
     "text": [
      "233.1182098388672\n"
     ]
    }
   ],
   "source": [
    "e = time.time()\n",
    "print(e-s)"
   ]
  }
 ],
 "metadata": {
  "kernelspec": {
   "display_name": "Python 3",
   "language": "python",
   "name": "python3"
  },
  "language_info": {
   "codemirror_mode": {
    "name": "ipython",
    "version": 3
   },
   "file_extension": ".py",
   "mimetype": "text/x-python",
   "name": "python",
   "nbconvert_exporter": "python",
   "pygments_lexer": "ipython3",
   "version": "3.7.0"
  }
 },
 "nbformat": 4,
 "nbformat_minor": 2
}
