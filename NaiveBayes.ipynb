{
 "cells": [
  {
   "cell_type": "code",
   "execution_count": 1,
   "metadata": {},
   "outputs": [],
   "source": [
    "import time\n",
    "import numpy as np"
   ]
  },
  {
   "cell_type": "code",
   "execution_count": 2,
   "metadata": {},
   "outputs": [],
   "source": [
    "def load_dataset(data_dir=''):\n",
    "    \"\"\"Load the train and test examples \n",
    "    \"\"\"\n",
    "    x_train = np.load(\"data/x_train.npy\")\n",
    "    y_train = np.load(\"data/y_train.npy\")\n",
    "    x_test = np.load(\"data/x_test.npy\")\n",
    "    y_test = np.load(\"data/y_test.npy\")\n",
    "\n",
    "    return x_train, y_train, x_test, y_test"
   ]
  },
  {
   "cell_type": "code",
   "execution_count": 3,
   "metadata": {},
   "outputs": [],
   "source": [
    "x_train, y_train, x_test, y_test = load_dataset()"
   ]
  },
  {
   "cell_type": "code",
   "execution_count": 4,
   "metadata": {},
   "outputs": [
    {
     "data": {
      "text/plain": [
       "(50000, 784)"
      ]
     },
     "execution_count": 4,
     "metadata": {},
     "output_type": "execute_result"
    }
   ],
   "source": [
    "x_train.shape"
   ]
  },
  {
   "cell_type": "code",
   "execution_count": 5,
   "metadata": {},
   "outputs": [],
   "source": [
    "x_sub = x_train[0:]\n",
    "y_sub = y_train[0:]"
   ]
  },
  {
   "cell_type": "code",
   "execution_count": null,
   "metadata": {},
   "outputs": [],
   "source": []
  },
  {
   "cell_type": "code",
   "execution_count": 6,
   "metadata": {},
   "outputs": [],
   "source": [
    "def one_hotter(a, colors=256):\n",
    "    #print(colors)\n",
    "    b = np.zeros((a.size, colors))\n",
    "    b[np.arange(a.size),a] = 1\n",
    "    return b.T"
   ]
  },
  {
   "cell_type": "code",
   "execution_count": 7,
   "metadata": {},
   "outputs": [],
   "source": [
    "def train(x_train, y_train):\n",
    "    start = time.time()\n",
    "    ans = np.zeros((10,256,784))\n",
    "    for i, x in enumerate(x_train):\n",
    "        y = y_train[i]\n",
    "        hot = one_hotter(x)\n",
    "        ans[y]+=hot\n",
    "    print(time.time()-start)\n",
    "    return ans"
   ]
  },
  {
   "cell_type": "code",
   "execution_count": 8,
   "metadata": {},
   "outputs": [
    {
     "name": "stdout",
     "output_type": "stream",
     "text": [
      "69.25726366043091\n"
     ]
    }
   ],
   "source": [
    "trained = train(x_sub, y_sub)"
   ]
  },
  {
   "cell_type": "code",
   "execution_count": 9,
   "metadata": {},
   "outputs": [],
   "source": [
    "#sum(np.apply_along_axis(one_hotter, -1, x_sub))"
   ]
  },
  {
   "cell_type": "code",
   "execution_count": 10,
   "metadata": {},
   "outputs": [],
   "source": [
    "classes, counts = np.unique(y_sub, return_counts=True)"
   ]
  },
  {
   "cell_type": "code",
   "execution_count": 11,
   "metadata": {},
   "outputs": [],
   "source": [
    "p_class = np.log(counts/sum(counts))"
   ]
  },
  {
   "cell_type": "code",
   "execution_count": 12,
   "metadata": {},
   "outputs": [
    {
     "name": "stdout",
     "output_type": "stream",
     "text": [
      "[-2.30258509 -2.30258509 -2.30258509 -2.30258509 -2.30258509 -2.30258509\n",
      " -2.30258509 -2.30258509 -2.30258509 -2.30258509]\n"
     ]
    }
   ],
   "source": [
    "print(p_class)"
   ]
  },
  {
   "cell_type": "code",
   "execution_count": 19,
   "metadata": {},
   "outputs": [],
   "source": [
    "def p(c, pixel, val):\n",
    "    count = trained[c][val][pixel]\n",
    "    total = counts[c]\n",
    "    return np.log((count + 1)/(total+1))"
   ]
  },
  {
   "cell_type": "code",
   "execution_count": 20,
   "metadata": {},
   "outputs": [],
   "source": [
    "def p_total(c, x):\n",
    "    #print(c, x.shape)\n",
    "    total = sum([p(c, pixel, col) for pixel, col in enumerate(x)])\n",
    "    return total + p_class[c]"
   ]
  },
  {
   "cell_type": "code",
   "execution_count": 21,
   "metadata": {},
   "outputs": [
    {
     "name": "stdout",
     "output_type": "stream",
     "text": [
      "8 10\n",
      "0.20096302032470703\n"
     ]
    }
   ],
   "source": [
    "start = time.time()\n",
    "correct, all_samples = 0,0\n",
    "for i, x in enumerate(x_test[:10]):\n",
    "    vals = []\n",
    "    for c in classes:\n",
    "        #total = sum([p(pixel, col, c) for pixel, col in enumerate(x)])\n",
    "        #vals.append(total+p_class[c])\n",
    "        \n",
    "        vals.append(p_total(c, x))\n",
    "    if np.argmax(vals) == y_test[i]:\n",
    "        correct+=1\n",
    "    all_samples+=1\n",
    "print(correct, all_samples)\n",
    "print(time.time()-start)"
   ]
  },
  {
   "cell_type": "code",
   "execution_count": 22,
   "metadata": {},
   "outputs": [],
   "source": [
    "def hi(c, x):\n",
    "    print(c, x.shape)"
   ]
  },
  {
   "cell_type": "code",
   "execution_count": 23,
   "metadata": {},
   "outputs": [],
   "source": [
    "from multiprocessing.dummy import Pool as ThreadPool\n",
    "pool = ThreadPool(8)"
   ]
  },
  {
   "cell_type": "code",
   "execution_count": 27,
   "metadata": {},
   "outputs": [
    {
     "name": "stdout",
     "output_type": "stream",
     "text": [
      "[0 1 2 3 4 5 6 7 8 9]\n",
      "7421 10000\n",
      "203.29499077796936\n"
     ]
    }
   ],
   "source": [
    "start = time.time()\n",
    "correct, all_samples = 0,0\n",
    "classes = np.array(classes)\n",
    "print(classes)\n",
    "for i, x in enumerate(x_test[:]):\n",
    "    vals = list(pool.map(lambda c: p_total(c, x), classes))\n",
    "    #vals = np.apply_along_axis(hi, 1, classes, x)\n",
    "    if np.argmax(vals) == y_test[i]:\n",
    "        correct+=1\n",
    "    all_samples+=1\n",
    "print(correct, all_samples)\n",
    "print(time.time()-start)"
   ]
  },
  {
   "cell_type": "code",
   "execution_count": 18,
   "metadata": {},
   "outputs": [
    {
     "data": {
      "text/plain": [
       "(784,)"
      ]
     },
     "execution_count": 18,
     "metadata": {},
     "output_type": "execute_result"
    }
   ],
   "source": [
    "trained[0][0][:].shape"
   ]
  },
  {
   "cell_type": "code",
   "execution_count": null,
   "metadata": {},
   "outputs": [],
   "source": []
  }
 ],
 "metadata": {
  "kernelspec": {
   "display_name": "Python 3",
   "language": "python",
   "name": "python3"
  },
  "language_info": {
   "codemirror_mode": {
    "name": "ipython",
    "version": 3
   },
   "file_extension": ".py",
   "mimetype": "text/x-python",
   "name": "python",
   "nbconvert_exporter": "python",
   "pygments_lexer": "ipython3",
   "version": "3.7.0"
  }
 },
 "nbformat": 4,
 "nbformat_minor": 2
}
