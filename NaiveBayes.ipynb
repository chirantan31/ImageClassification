{
 "cells": [
  {
   "cell_type": "code",
   "execution_count": 1,
   "metadata": {},
   "outputs": [],
   "source": [
    "import time\n",
    "import numpy as np"
   ]
  },
  {
   "cell_type": "code",
   "execution_count": 2,
   "metadata": {},
   "outputs": [],
   "source": [
    "s = time.time()"
   ]
  },
  {
   "cell_type": "code",
   "execution_count": 3,
   "metadata": {},
   "outputs": [],
   "source": [
    "def load_dataset(data_dir=''):\n",
    "    \"\"\"Load the train and test examples \n",
    "    \"\"\"\n",
    "    x_train = np.load(\"data/x_train.npy\")\n",
    "    y_train = np.load(\"data/y_train.npy\")\n",
    "    x_test = np.load(\"data/x_test.npy\")\n",
    "    y_test = np.load(\"data/y_test.npy\")\n",
    "\n",
    "    return x_train, y_train, x_test, y_test"
   ]
  },
  {
   "cell_type": "code",
   "execution_count": 4,
   "metadata": {},
   "outputs": [],
   "source": [
    "x_train, y_train, x_test, y_test = load_dataset()"
   ]
  },
  {
   "cell_type": "code",
   "execution_count": 5,
   "metadata": {},
   "outputs": [],
   "source": [
    "#x_train, y_train = x_train[:100], y_train[:100]"
   ]
  },
  {
   "cell_type": "code",
   "execution_count": 6,
   "metadata": {},
   "outputs": [],
   "source": [
    "classes, counts = np.unique(y_train, return_counts=True)"
   ]
  },
  {
   "cell_type": "code",
   "execution_count": 7,
   "metadata": {},
   "outputs": [],
   "source": [
    "def one_hotter(a, colors=256):\n",
    "    #print(colors)\n",
    "    b = np.zeros((a.size, colors))\n",
    "    b[np.arange(a.size),a] = 1\n",
    "    return b.T"
   ]
  },
  {
   "cell_type": "code",
   "execution_count": 8,
   "metadata": {},
   "outputs": [],
   "source": [
    "def train(x_train, y_train):\n",
    "    start = time.time()\n",
    "    ans = np.zeros((10,256,784))\n",
    "    for i, x in enumerate(x_train):\n",
    "        y = y_train[i]\n",
    "        hot = one_hotter(x)\n",
    "        ans[y]+=hot\n",
    "    print(time.time()-start)\n",
    "    return ans"
   ]
  },
  {
   "cell_type": "code",
   "execution_count": 9,
   "metadata": {},
   "outputs": [
    {
     "name": "stdout",
     "output_type": "stream",
     "text": [
      "70.51795196533203\n"
     ]
    }
   ],
   "source": [
    "trained = train(x_train, y_train)"
   ]
  },
  {
   "cell_type": "code",
   "execution_count": 10,
   "metadata": {},
   "outputs": [
    {
     "name": "stdout",
     "output_type": "stream",
     "text": [
      "[-2.30258509 -2.30258509 -2.30258509 -2.30258509 -2.30258509 -2.30258509\n",
      " -2.30258509 -2.30258509 -2.30258509 -2.30258509]\n"
     ]
    }
   ],
   "source": [
    "p_class = np.log(counts/sum(counts))\n",
    "print(p_class)"
   ]
  },
  {
   "cell_type": "code",
   "execution_count": 11,
   "metadata": {},
   "outputs": [],
   "source": [
    "def p(pixel, val):\n",
    "    count = trained[:, val, pixel]\n",
    "    #total = counts[c]\n",
    "    return np.log((count + 1)/(counts+1))"
   ]
  },
  {
   "cell_type": "code",
   "execution_count": 12,
   "metadata": {},
   "outputs": [],
   "source": [
    "def p_total(x):\n",
    "    totals = sum([p(pixel, col) for pixel, col in enumerate(x)])\n",
    "    return totals + p_class"
   ]
  },
  {
   "cell_type": "code",
   "execution_count": 13,
   "metadata": {},
   "outputs": [
    {
     "name": "stdout",
     "output_type": "stream",
     "text": [
      "7421 10000\n",
      "35.41399621963501\n"
     ]
    }
   ],
   "source": [
    "start = time.time()\n",
    "correct, all_samples = 0,0\n",
    "for i, x in enumerate(x_test):\n",
    "    p_t = p_total(x)\n",
    "    #print(p_t)\n",
    "    if np.argmax(p_t) == y_test[i]:\n",
    "        correct+=1\n",
    "    all_samples+=1\n",
    "print(correct, all_samples)\n",
    "print(time.time()-start)"
   ]
  },
  {
   "cell_type": "code",
   "execution_count": 14,
   "metadata": {},
   "outputs": [
    {
     "name": "stdout",
     "output_type": "stream",
     "text": [
      "106.19490790367126\n"
     ]
    }
   ],
   "source": [
    "e = time.time()\n",
    "print(e-s)"
   ]
  }
 ],
 "metadata": {
  "kernelspec": {
   "display_name": "Python 3",
   "language": "python",
   "name": "python3"
  },
  "language_info": {
   "codemirror_mode": {
    "name": "ipython",
    "version": 3
   },
   "file_extension": ".py",
   "mimetype": "text/x-python",
   "name": "python",
   "nbconvert_exporter": "python",
   "pygments_lexer": "ipython3",
   "version": "3.7.0"
  }
 },
 "nbformat": 4,
 "nbformat_minor": 2
}
