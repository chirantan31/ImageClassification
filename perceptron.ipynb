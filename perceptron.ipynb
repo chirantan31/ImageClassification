{
 "cells": [
  {
   "cell_type": "code",
   "execution_count": 3,
   "metadata": {},
   "outputs": [],
   "source": [
    "import time\n",
    "import numpy as np\n",
    "from random import randint"
   ]
  },
  {
   "cell_type": "code",
   "execution_count": 4,
   "metadata": {},
   "outputs": [],
   "source": [
    "def load_dataset(data_dir=''):\n",
    "    \"\"\"Load the train and test examples \n",
    "    \"\"\"\n",
    "    x_train = np.load(\"data/x_train.npy\")\n",
    "    y_train = np.load(\"data/y_train.npy\")\n",
    "    x_test = np.load(\"data/x_test.npy\")\n",
    "    y_test = np.load(\"data/y_test.npy\")\n",
    "\n",
    "    return x_train, y_train, x_test, y_test"
   ]
  },
  {
   "cell_type": "code",
   "execution_count": 5,
   "metadata": {},
   "outputs": [],
   "source": [
    "x_train, y_train, x_test, y_test = load_dataset()"
   ]
  },
  {
   "cell_type": "code",
   "execution_count": 6,
   "metadata": {},
   "outputs": [],
   "source": [
    "#x_train, y_train = x_train[:100], y_train[:100]"
   ]
  },
  {
   "cell_type": "code",
   "execution_count": 7,
   "metadata": {},
   "outputs": [],
   "source": [
    "classes, counts = np.unique(y_train, return_counts=True)"
   ]
  },
  {
   "cell_type": "code",
   "execution_count": 8,
   "metadata": {},
   "outputs": [],
   "source": [
    "W = np.zeros((len(classes), x_train.shape[1]))"
   ]
  },
  {
   "cell_type": "code",
   "execution_count": 9,
   "metadata": {},
   "outputs": [
    {
     "name": "stdout",
     "output_type": "stream",
     "text": [
      "Training Accuracy 0.75168\n",
      "Training Accuracy 0.78278\n",
      "Training Accuracy 0.78658\n",
      "Training Accuracy 0.7934\n",
      "Training Accuracy 0.79996\n",
      "Training Accuracy 0.79726\n",
      "Training Accuracy 0.85046\n",
      "Training Accuracy 0.8514\n",
      "Training Accuracy 0.85168\n",
      "Training Accuracy 0.84454\n",
      "5.251040697097778\n"
     ]
    }
   ],
   "source": [
    "time1 = time.time()\n",
    "LR = .01\n",
    "num_epochs = 10\n",
    "for epochs in range(num_epochs):\n",
    "    #Learning rate schedule\n",
    "    if (epochs > 5):\n",
    "        LR = 0.001\n",
    "    if (epochs > 10):\n",
    "        LR = 0.0001\n",
    "    if (epochs > 15):\n",
    "        LR = 0.00001\n",
    "    total_correct = 0\n",
    "    for n in range( len(x_train)):\n",
    "        n_random = randint(0,len(x_train)-1 )\n",
    "        y = y_train[n_random]\n",
    "        x = x_train[n_random][:]\n",
    "        x = np.reshape(x, (x.shape[0],1))\n",
    "        dot = np.dot(W, x)\n",
    "        #print(dot)\n",
    "        y_pred = np.argmax(dot)\n",
    "        if y_pred != y:\n",
    "            update = LR*x.T\n",
    "            W[y]+=update[0]\n",
    "            W[y_pred]-=update[0]\n",
    "            \n",
    "        if (y_pred == y):\n",
    "            total_correct += 1\n",
    "        \n",
    "    print(\"Training Accuracy\", total_correct/np.float(len(x_train) ) )\n",
    "time2 = time.time()\n",
    "print(time2-time1)"
   ]
  },
  {
   "cell_type": "code",
   "execution_count": 15,
   "metadata": {},
   "outputs": [
    {
     "name": "stdout",
     "output_type": "stream",
     "text": [
      "Avg Classification Rate 0.8275\n",
      "Avg Class Classification Rate [[0.705]\n",
      " [0.966]\n",
      " [0.633]\n",
      " [0.857]\n",
      " [0.788]\n",
      " [0.907]\n",
      " [0.655]\n",
      " [0.917]\n",
      " [0.94 ]\n",
      " [0.907]]\n",
      "[[705.   8.  23.  50.  13.   1. 184.   0.  14.   2.]\n",
      " [  3. 966.   1.  19.   6.   0.   5.   0.   0.   0.]\n",
      " [ 14.   3. 633.  20. 182.   0. 141.   0.   7.   0.]\n",
      " [ 22.  23.  15. 857.  41.   0.  37.   0.   5.   0.]\n",
      " [  2.   1.  55.  36. 788.   0. 108.   0.  10.   0.]\n",
      " [  0.   1.   0.   4.   0. 907.   1.  49.  11.  27.]\n",
      " [ 87.   6.  74.  40. 118.   0. 655.   0.  20.   0.]\n",
      " [  0.   0.   0.   0.   0.  47.   0. 917.   5.  31.]\n",
      " [  9.   2.   3.   9.   8.   6.  19.   3. 940.   1.]\n",
      " [  0.   0.   0.   1.   0.  36.   0.  56.   0. 907.]]\n"
     ]
    }
   ],
   "source": [
    "total_correct = 0\n",
    "num_samples, num_classified_correctly = np.zeros((len(classes), 1)), np.zeros((len(classes), 1))\n",
    "avg_accuracy = 0\n",
    "conf_matrix = np.zeros((len(classes), len(classes)))\n",
    "for n in range( len(x_test)):\n",
    "    y = y_test[n]\n",
    "    x = x_test[n][:]\n",
    "    x = np.reshape(x, (x.shape[0],1))\n",
    "    dot = np.dot(W, x)\n",
    "    #print(dot)\n",
    "    y_pred = np.argmax(dot)\n",
    "    num_samples[y]+=1\n",
    "    conf_matrix[y][y_pred]+=1\n",
    "    if (y_pred == y):\n",
    "        total_correct += 1\n",
    "        num_classified_correctly[y] += 1\n",
    "avg_classification_rate = total_correct/np.float(len(x_test))\n",
    "avg_class_classification_rate = num_classified_correctly/num_samples\n",
    "print(\"Avg Classification Rate\", total_correct/np.float(len(x_test) ) )\n",
    "print(\"Avg Class Classification Rate\", avg_class_classification_rate )\n",
    "print(conf_matrix)"
   ]
  },
  {
   "cell_type": "code",
   "execution_count": null,
   "metadata": {},
   "outputs": [],
   "source": []
  }
 ],
 "metadata": {
  "kernelspec": {
   "display_name": "Python 3",
   "language": "python",
   "name": "python3"
  },
  "language_info": {
   "codemirror_mode": {
    "name": "ipython",
    "version": 3
   },
   "file_extension": ".py",
   "mimetype": "text/x-python",
   "name": "python",
   "nbconvert_exporter": "python",
   "pygments_lexer": "ipython3",
   "version": "3.7.0"
  }
 },
 "nbformat": 4,
 "nbformat_minor": 2
}
